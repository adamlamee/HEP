{
 "cells": [
  {
   "cell_type": "markdown",
   "metadata": {},
   "source": [
    "# Quarknet CRMD Rates"
   ]
  },
  {
   "cell_type": "code",
   "execution_count": null,
   "metadata": {
    "collapsed": false
   },
   "outputs": [],
   "source": [
    "# imports some software packages we'll use\n",
    "import pandas as pd\n",
    "import numpy as np\n",
    "%matplotlib inline\n",
    "import matplotlib as mpl\n",
    "import matplotlib.pyplot as plt\n",
    "inline_rc = dict(mpl.rcParams)"
   ]
  },
  {
   "cell_type": "code",
   "execution_count": null,
   "metadata": {
    "collapsed": false
   },
   "outputs": [],
   "source": [
    "# not the cool part of the code\n",
    "data = pd.read_csv('eclipse_sample1.csv', skiprows=2, dtype={'Partial': str, 'JulDay': str})\n",
    "\n",
    "cols = data.columns\n",
    "cols = cols.map(lambda x: x.replace('.', '_') if isinstance(x, (str or unicode)) else x)\n",
    "data.columns = cols\n",
    "\n",
    "data['date'] = pd.to_datetime(data.JulDay.astype(float), origin='julian', unit='D')\n",
    "data['seconds'] = pd.to_timedelta(data.SSDB, 's')\n",
    "data.insert(0, 'time', (data.date + data.seconds))\n",
    "data.drop('date', axis=1, inplace=True)\n",
    "data.drop('seconds', axis=1, inplace=True)\n",
    "\n",
    "data.head(2)"
   ]
  },
  {
   "cell_type": "markdown",
   "metadata": {},
   "source": [
    "## Select paddles for coincidence"
   ]
  },
  {
   "cell_type": "code",
   "execution_count": null,
   "metadata": {
    "collapsed": false
   },
   "outputs": [],
   "source": [
    "# choose 1, 2, 3, and or 4\n",
    "plotdata = data.query('FracDay_1 != -1 and \\\n",
    "    FracDay_2 != -1')"
   ]
  },
  {
   "cell_type": "markdown",
   "metadata": {},
   "source": [
    "## Plot a rate histogram"
   ]
  },
  {
   "cell_type": "code",
   "execution_count": null,
   "metadata": {
    "collapsed": false
   },
   "outputs": [],
   "source": [
    "plotdata['delta'] = (plotdata['time']-plotdata['time'].shift())\n",
    "plotdata = plotdata.drop(plotdata.index[0])\n",
    "\n",
    "# the \"minutes\" sets the rate interval for the histogram\n",
    "(plotdata.delta / pd.Timedelta(minutes=1)).hist();"
   ]
  }
 ],
 "metadata": {
  "kernelspec": {
   "display_name": "Python 3",
   "language": "python",
   "name": "python3"
  },
  "language_info": {
   "codemirror_mode": {
    "name": "ipython",
    "version": 3
   },
   "file_extension": ".py",
   "mimetype": "text/x-python",
   "name": "python",
   "nbconvert_exporter": "python",
   "pygments_lexer": "ipython3",
   "version": "3.5.2"
  }
 },
 "nbformat": 4,
 "nbformat_minor": 0
}
