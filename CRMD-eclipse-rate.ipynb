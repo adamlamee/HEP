{
 "cells": [
  {
   "cell_type": "markdown",
   "metadata": {},
   "source": [
    "# 2017 Solar Eclipse Muon Rate Study\n",
    "This Jupyter notebook lets you analyze data from a Quarknet cosmic ray muon detector and look for patterns in the rate count. Follow the [Quarknet 2017 Eclipse site](https://sites.google.com/view/quarknet2017eclipse/home) for more info. If this is your first time using this, try the [5-minute Intro to Jupyter activity](./Intro_to_Jupyter.ipynb) first.  \n",
    "\n",
    "Start by selecting Kernel > restart and clear output. Then, run each cell with shift-enter. Remeber, you can edit and re-run the code all you want. To reset everything, go to File > revert to checkpoint, then restart the kernel again."
   ]
  },
  {
   "cell_type": "code",
   "execution_count": null,
   "metadata": {
    "collapsed": false
   },
   "outputs": [],
   "source": [
    "# imports some software packages we'll use\n",
    "import pandas as pd\n",
    "import numpy as np\n",
    "%matplotlib inline\n",
    "import matplotlib as mpl\n",
    "import matplotlib.pyplot as plt\n",
    "inline_rc = dict(mpl.rcParams)"
   ]
  },
  {
   "cell_type": "code",
   "execution_count": null,
   "metadata": {
    "collapsed": false
   },
   "outputs": [],
   "source": [
    "# Edit the next line to pull a file from a different URL\n",
    "data = pd.read_table('https://github.com/adamlamee/HEP-data/raw/master/eclipse_sample.txt', skiprows=2, index_col=False)\n",
    "\n",
    "cols = data.columns\n",
    "cols = cols.map(lambda x: x.replace('.', '_') if isinstance(x, (str or unicode)) else x)\n",
    "data.columns = cols\n",
    "\n",
    "data['temp'] = data.JulDay + data.MinFracDay.round(2)\n",
    "data.insert(1, 'time', pd.to_datetime(data.temp.astype(float), origin='julian', unit='D'))\n",
    "data.drop('temp', axis=1, inplace=True)\n",
    "\n",
    "# You could duplicate what's below for a 2nd DAQ. Hint: columns are numbered starting with zero( the 9th column is # 8)\n",
    "data['DAQ1p1'] = data.iloc[:,8] > 0\n",
    "data['DAQ1p2'] = data.iloc[:,10] > 0\n",
    "data['DAQ1p3'] = data.iloc[:,12] > 0\n",
    "data['DAQ1p4'] = data.iloc[:,14] > 0"
   ]
  },
  {
   "cell_type": "code",
   "execution_count": null,
   "metadata": {
    "collapsed": false
   },
   "outputs": [],
   "source": [
    "# This shows the first 3 rows of the data table. Scroll right to see it all.\n",
    "data.head(3)"
   ]
  },
  {
   "cell_type": "markdown",
   "metadata": {},
   "source": [
    "## Choose the coincidence\n",
    "The cell below reduces the data set to only include events for which paddles 1 and 2 recorded hits. You can edit the code to look for coincidence between other paddle combinations, too."
   ]
  },
  {
   "cell_type": "code",
   "execution_count": null,
   "metadata": {
    "collapsed": false
   },
   "outputs": [],
   "source": [
    "# coincidence of paddles 1 & 2\n",
    "newdata = data.query('DAQ1p1 == True and DAQ1p2 == True')"
   ]
  },
  {
   "cell_type": "code",
   "execution_count": null,
   "metadata": {
    "collapsed": false
   },
   "outputs": [],
   "source": [
    "# resample rate sets counts/min for rate study (e.g., '30min' looks at counts/30 minutes)\n",
    "plotdata = newdata.resample('30min', on='time').count()\n",
    "\n",
    "# And this plots the rate count\n",
    "plt.figure(figsize=(12,3))\n",
    "plt.plot(plotdata, 'ro');\n",
    "plt.title('title?')\n",
    "plt.xlabel('label me')\n",
    "plt.ylabel('me, too!')"
   ]
  },
  {
   "cell_type": "markdown",
   "metadata": {},
   "source": [
    "## Saving Your Work\n",
    "This is running on a Google Compute Engine server on a distant planet and deletes what you've done after 20 minutes of inactivity or after you close your browser. To save for later use or analysis you have a few options:\n",
    "- File > Download as > ipynb to continue your analysis later (come back here and upload it or install Jupyter on your own device)\n",
    "- File > Download as > pdf (static copy including code and graphs)\n",
    "- Right-click on a graph and select Save Image As ... (to share a pic)  \n",
    "\n",
    "## Credits\n",
    "This Jupyter notebook was the brainchild of [Quarknet](https://quarknet.i2u2.org/) staffer Mark Adams, eclipse file output designed by Sudha Balakrishnan, Joel Griffith sorted out web access to the data files, and this notebook was designed by [Adam LaMee](https://adamlamee.github.io/) all for Quarknet's Eclipse 2017 Cosmic Ray Study. Thanks to the great folks at [MyBinder.org](https://beta.mybinder.org/) for making this notebook is interactive without you needing to install anything."
   ]
  },
  {
   "cell_type": "code",
   "execution_count": null,
   "metadata": {
    "collapsed": true
   },
   "outputs": [],
   "source": []
  }
 ],
 "metadata": {
  "kernelspec": {
   "display_name": "Python 3",
   "language": "python",
   "name": "python3"
  },
  "language_info": {
   "codemirror_mode": {
    "name": "ipython",
    "version": 3
   },
   "file_extension": ".py",
   "mimetype": "text/x-python",
   "name": "python",
   "nbconvert_exporter": "python",
   "pygments_lexer": "ipython3",
   "version": "3.5.2"
  }
 },
 "nbformat": 4,
 "nbformat_minor": 0
}
